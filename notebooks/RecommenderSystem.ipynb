{
 "cells": [
  {
   "cell_type": "markdown",
   "metadata": {},
   "source": [
    "# Recommender System\n",
    "-- Movie recommendation"
   ]
  },
  {
   "cell_type": "code",
   "execution_count": null,
   "metadata": {
    "collapsed": false
   },
   "outputs": [],
   "source": [
    "import pandas as pd\n",
    "from surprise import SVD\n",
    "from surprise import KNNBaseline\n",
    "from surprise.model_selection import train_test_split\n",
    "from surprise.model_selection import LeaveOneOut\n",
    "from surprise import Reader\n",
    "from surprise import Dataset\n",
    "from surprise import accuracy\n",
    "from surprise.model_selection import train_test_split\n",
    "from collections import defaultdict"
   ]
  },
  {
   "cell_type": "code",
   "execution_count": null,
   "metadata": {
    "collapsed": false
   },
   "outputs": [],
   "source": [
    "movie_file = '../data/movies_recommender.csv'\n",
    "ratings_file = '../data/ratings_recommender.csv'\n",
    "\n",
    "movies = pd.read_csv(movie_file)\n",
    "print ('Movie data shape: ', movies.shape)\n",
    "print ('Movie data columns: ', movies.columns)\n",
    "print ('Movies head: \\n', movies.head(3))\n",
    "\n",
    "ratings = pd.read_csv(ratings_file)\n",
    "print ('\\n\\nRating data shape: ', ratings.shape)\n",
    "print ('Rating data columns: ', ratings.columns)\n",
    "print ('Ratings head: \\n', ratings.head(3))"
   ]
  },
  {
   "cell_type": "markdown",
   "metadata": {},
   "source": [
    "### Data Merge"
   ]
  },
  {
   "cell_type": "code",
   "execution_count": null,
   "metadata": {
    "collapsed": false
   },
   "outputs": [],
   "source": [
    "df = pd.merge(movies, ratings, on='movieId', how='inner')\n",
    "print ('Merged dataframe shape: ', df.shape)\n",
    "df.head(5)"
   ]
  },
  {
   "cell_type": "code",
   "execution_count": null,
   "metadata": {
    "collapsed": false
   },
   "outputs": [],
   "source": [
    "# describe data\n",
    "df.describe().transpose()"
   ]
  },
  {
   "cell_type": "code",
   "execution_count": null,
   "metadata": {
    "collapsed": false
   },
   "outputs": [],
   "source": [
    "# get min and max rating\n",
    "rating_min = (df[['rating']].min())[0]\n",
    "rating_max = (df[['rating']].max())[0]\n",
    "print ('Min rating', rating_min)\n",
    "print ('Max rating', rating_max)\n",
    "\n",
    "reader = Reader(rating_scale=(rating_min, rating_max))\n",
    "data = Dataset.load_from_df(df[['userId', 'movieId', 'rating']], reader)\n",
    "print ('Data shape: ', data.df.shape)\n",
    "data.df.head(5)"
   ]
  },
  {
   "cell_type": "markdown",
   "metadata": {},
   "source": [
    "### Build the model"
   ]
  },
  {
   "cell_type": "code",
   "execution_count": null,
   "metadata": {
    "collapsed": false
   },
   "outputs": [],
   "source": [
    "# Split\n",
    "trainSet, testSet = train_test_split(data, test_size=.25, random_state=0)\n",
    "\n",
    "# Model training\n",
    "algo = SVD(random_state=0)\n",
    "algo.fit(trainSet)\n",
    "\n",
    "# Predictions\n",
    "predictions = algo.test(testSet)"
   ]
  },
  {
   "cell_type": "code",
   "execution_count": null,
   "metadata": {
    "collapsed": false
   },
   "outputs": [],
   "source": [
    "def MAE(predictions):\n",
    "        return accuracy.mae(predictions, verbose=False)\n",
    "def RMSE(predictions):\n",
    "        return accuracy.rmse(predictions, verbose=False)\n",
    "    \n",
    "print(\"RMSE: \", RMSE(predictions))\n",
    "print(\"MAE: \", MAE(predictions))"
   ]
  },
  {
   "cell_type": "code",
   "execution_count": null,
   "metadata": {
    "collapsed": true
   },
   "outputs": [],
   "source": [
    "def GetTopN(predictions, n=10, minimumRating=4.0):\n",
    "    topN = defaultdict(list)\n",
    "    for userID, movieID, actualRating, estimatedRating, _ in predictions:\n",
    "        if (estimatedRating >= minimumRating):\n",
    "            topN[int(userID)].append((int(movieID), estimatedRating))\n",
    "\n",
    "    for userID, ratings in topN.items():\n",
    "        ratings.sort(key=lambda x: x[1], reverse=True)\n",
    "        topN[int(userID)] = ratings[:n]\n",
    "\n",
    "    return topN"
   ]
  },
  {
   "cell_type": "code",
   "execution_count": null,
   "metadata": {
    "collapsed": false
   },
   "outputs": [],
   "source": [
    "topN = GetTopN(predictions)\n",
    "for i,j in topN.items():\n",
    "    print ('user_id: ', i)\n",
    "    for item in j:\n",
    "        print ('\\tmovie_id:', item[0], '\\tpredicted rating:', item[1])\n",
    "    break"
   ]
  },
  {
   "cell_type": "markdown",
   "metadata": {},
   "source": [
    "### Check one user"
   ]
  },
  {
   "cell_type": "code",
   "execution_count": null,
   "metadata": {
    "collapsed": false
   },
   "outputs": [],
   "source": [
    "user_id = 47"
   ]
  },
  {
   "cell_type": "code",
   "execution_count": null,
   "metadata": {
    "collapsed": false
   },
   "outputs": [],
   "source": [
    "# get all movies watched by this user\n",
    "df_user = df[df['userId'] == user_id]\n",
    "df_user = df_user[df_user['rating'] >= 5.0]\n",
    "df_user = df_user.drop('timestamp', axis =1)\n",
    "print ('Watched Movies + Rating 5.0')\n",
    "df_user.head(10)"
   ]
  },
  {
   "cell_type": "code",
   "execution_count": null,
   "metadata": {
    "collapsed": false
   },
   "outputs": [],
   "source": [
    "# get all recommendations for this user\n",
    "movie_list = list()\n",
    "genre_list = list()\n",
    "for movie_id,pred_rating in topN[user_id]:\n",
    "#     print (str(movie_id) + \" >> \" + str(pred_rating))\n",
    "    title = movies[movies['movieId'] == movie_id].values[0][1]\n",
    "    genre = movies[movies['movieId'] == movie_id].values[0][2]\n",
    "    movie_list.append(title)\n",
    "    genre_list.append(genre)\n",
    "data_tuples = list(zip(movie_list,genre_list))\n",
    "reco_df = pd.DataFrame(data_tuples, columns=['Title','Genre'])\n",
    "print ('Recommended Movies')\n",
    "reco_df.head(10)"
   ]
  },
  {
   "cell_type": "code",
   "execution_count": null,
   "metadata": {
    "collapsed": true
   },
   "outputs": [],
   "source": []
  }
 ],
 "metadata": {
  "kernelspec": {
   "display_name": "Python 3",
   "language": "python",
   "name": "python3"
  },
  "language_info": {
   "codemirror_mode": {
    "name": "ipython",
    "version": 3
   },
   "file_extension": ".py",
   "mimetype": "text/x-python",
   "name": "python",
   "nbconvert_exporter": "python",
   "pygments_lexer": "ipython3",
   "version": "3.6.6"
  }
 },
 "nbformat": 4,
 "nbformat_minor": 2
}
