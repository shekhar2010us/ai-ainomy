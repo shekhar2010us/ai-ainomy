{
 "cells": [
  {
   "cell_type": "markdown",
   "metadata": {},
   "source": [
    "## 1 Two Sum\n",
    "#### Beats 88.45% on time\n",
    "Given an array of integers, return indices of the two numbers such that they add up to a specific target.\n",
    "\n",
    "You may assume that each input would have exactly one solution, and you may not use the same element twice.\n",
    "\n",
    "```\n",
    "Example:\n",
    "\n",
    "Given nums = [2, 7, 11, 15], target = 9\n",
    "\n",
    "return [0, 1]\n",
    "```"
   ]
  },
  {
   "cell_type": "code",
   "execution_count": 53,
   "metadata": {
    "collapsed": false
   },
   "outputs": [
    {
     "name": "stdout",
     "output_type": "stream",
     "text": [
      "[0, 1]\n",
      "[1, 2]\n"
     ]
    }
   ],
   "source": [
    "def twoSum(nums, target):\n",
    "    data = dict()\n",
    "    for i in range(len(nums)):\n",
    "        comp = target - nums[i]\n",
    "        if comp in data:\n",
    "            return [data[comp], i]\n",
    "        else:\n",
    "            data[nums[i]] = i\n",
    "    return None\n",
    "\n",
    "nums = [3,3]\n",
    "target = 6\n",
    "print (twoSum(nums, target))\n",
    "\n",
    "nums = [2,7,11,15]\n",
    "target = 18\n",
    "print (twoSum(nums, target))"
   ]
  },
  {
   "cell_type": "markdown",
   "metadata": {},
   "source": [
    "## 2 Add two numbers\n",
    "#### Beats 56.96% on time\n",
    "\n",
    "You are given two non-empty linked lists representing two non-negative integers. The digits are stored in reverse order and each of their nodes contain a single digit. Add the two numbers and return it as a linked list.\n",
    "\n",
    "You may assume the two numbers do not contain any leading zero, except the number 0 itself.\n",
    "```\n",
    "Example:\n",
    "\n",
    "Input: (2 -> 4 -> 3) + (5 -> 6 -> 4)\n",
    "Output: 7 -> 0 -> 8\n",
    "Explanation: 342 + 465 = 807.\n",
    "```"
   ]
  },
  {
   "cell_type": "code",
   "execution_count": 54,
   "metadata": {
    "collapsed": false
   },
   "outputs": [
    {
     "name": "stdout",
     "output_type": "stream",
     "text": [
      "1\n",
      "0 -> 1\n",
      "1 -> 1\n"
     ]
    }
   ],
   "source": [
    "class ListNode:\n",
    "    def __init__(self, x):\n",
    "        self.val = x\n",
    "        self.next = None\n",
    "\n",
    "\n",
    "def create_list(arr):\n",
    "    L = ListNode(arr[0])\n",
    "    curr = L\n",
    "    for i in range(1, len(arr)):\n",
    "        curr.next = ListNode(arr[i])\n",
    "        curr = curr.next\n",
    "    return L\n",
    "\n",
    "\n",
    "def print_list(L):\n",
    "    curr = L\n",
    "    res = curr.val\n",
    "    curr = curr.next\n",
    "    while curr is not None:\n",
    "        res = str(res) + \" -> \" + str(curr.val)\n",
    "        curr = curr.next\n",
    "    return res\n",
    "\n",
    "\n",
    "def sum_two_list(L1, L2):\n",
    "    L_res = ListNode(-1)\n",
    "    curr = L_res\n",
    "    prev = None\n",
    "    curr1 = L1\n",
    "    curr2 = L2\n",
    "    _carry = 0\n",
    "    while True:\n",
    "        if curr1 is not None and curr2 is None:\n",
    "            curr2 = ListNode(0)\n",
    "        if curr1 is None and curr2 is not None:\n",
    "            curr1 = ListNode(0)\n",
    "\n",
    "        _sum = curr1.val + curr2.val + _carry\n",
    "        curr.val = _sum % 10\n",
    "        _carry = 0\n",
    "        if _sum >= 10:\n",
    "            _carry = 1\n",
    "        prev = curr\n",
    "        curr.next = ListNode(-1)\n",
    "        curr = curr.next\n",
    "        curr1 = curr1.next\n",
    "        curr2 = curr2.next\n",
    "        if curr1 is None and curr2 is None:\n",
    "            break\n",
    "    if _carry == 1:\n",
    "        curr.val = 1\n",
    "        curr.next = None\n",
    "    if _carry == 0:\n",
    "        # remove the last node\n",
    "        prev.next = None\n",
    "    return L_res\n",
    "\n",
    "a1 = [1]\n",
    "a2 = [0,1]\n",
    "\n",
    "L1 = create_list(a1)\n",
    "print (print_list(L1))\n",
    "\n",
    "L2 = create_list(a2)\n",
    "print (print_list(L2))\n",
    "\n",
    "L_sum = sum_two_list(L1, L2)\n",
    "print(print_list(L_sum))"
   ]
  },
  {
   "cell_type": "markdown",
   "metadata": {},
   "source": [
    "## 3 Longest substring without repeating characters\n",
    "#### Beats 99.62% on time\n",
    "\n",
    "Given a string, find the length of the longest substring without repeating characters.\n",
    "\n",
    "```\n",
    "Example 1:\n",
    "\n",
    "Input: \"abcabcbb\"\n",
    "Output: 3 \n",
    "Explanation: The answer is \"abc\", with the length of 3. \n",
    "\n",
    "```\n",
    "\n",
    "```\n",
    "Example 2:\n",
    "\n",
    "Input: \"bbbbb\"\n",
    "Output: 1\n",
    "Explanation: The answer is \"b\", with the length of 1.\n",
    "\n",
    "```\n",
    "\n",
    "```\n",
    "Example 3:\n",
    "\n",
    "Input: \"pwwkew\"\n",
    "Output: 3\n",
    "Explanation: The answer is \"wke\", with the length of 3. \n",
    "             Note that the answer must be a substring, \"pwke\" is a subsequence and not a substring.\n",
    "```"
   ]
  },
  {
   "cell_type": "code",
   "execution_count": 55,
   "metadata": {
    "collapsed": false
   },
   "outputs": [
    {
     "data": {
      "text/plain": [
       "3"
      ]
     },
     "execution_count": 55,
     "metadata": {},
     "output_type": "execute_result"
    }
   ],
   "source": [
    "def lengthOfLongestSubstring(s):\n",
    "    if len(s) == 0:\n",
    "        return 0\n",
    "\n",
    "    prev_highest = 0\n",
    "    curr_len = 0\n",
    "    data = dict()\n",
    "    prev_index = -1\n",
    "\n",
    "    for i in range(len(s)):\n",
    "        item = s[i]\n",
    "        if item not in data:\n",
    "            data[item] = i\n",
    "            curr_len = curr_len + 1\n",
    "        else:\n",
    "            if data[item] < prev_index:\n",
    "                data[item] = i\n",
    "                curr_len = curr_len + 1\n",
    "            else:\n",
    "                prev_index = data[item]\n",
    "                prev_highest = curr_len if prev_highest < curr_len else prev_highest\n",
    "                curr_len = i - prev_index\n",
    "                data[item] = i\n",
    "    return max(prev_highest, curr_len)\n",
    "\n",
    "s = 'pwwkew'\n",
    "lengthOfLongestSubstring(s)"
   ]
  },
  {
   "cell_type": "markdown",
   "metadata": {},
   "source": [
    "## 4 Median of two sorted arrays\n",
    "#### Beats 28.2% on time\n",
    "\n",
    "There are two sorted arrays nums1 and nums2 of size m and n respectively.\n",
    "\n",
    "Find the median of the two sorted arrays. The overall run time complexity should be O(log (m+n)).\n",
    "\n",
    "You may assume nums1 and nums2 cannot be both empty.\n",
    "\n",
    "```\n",
    "Example 1:\n",
    "\n",
    "nums1 = [1, 3]\n",
    "nums2 = [2]\n",
    "\n",
    "The median is 2.0\n",
    "```\n",
    "\n",
    "```\n",
    "Example 2:\n",
    "\n",
    "nums1 = [1, 2]\n",
    "nums2 = [3, 4]\n",
    "\n",
    "The median is (2 + 3)/2 = 2.5\n",
    "```"
   ]
  },
  {
   "cell_type": "code",
   "execution_count": 70,
   "metadata": {
    "collapsed": false
   },
   "outputs": [
    {
     "data": {
      "text/plain": [
       "2.5"
      ]
     },
     "execution_count": 70,
     "metadata": {},
     "output_type": "execute_result"
    }
   ],
   "source": [
    "def findMedianSortedArrays(nums1, nums2):\n",
    "    nums = []\n",
    "    i=j=0\n",
    "    while i<len(nums1) and j<len(nums2):\n",
    "        if nums1[i] < nums2[j]:\n",
    "            nums.append(nums1[i])\n",
    "            i=i+1\n",
    "        else:\n",
    "            nums.append(nums2[j])\n",
    "            j=j+1\n",
    "\n",
    "    if i == len(nums1):\n",
    "        for index in range(j, len(nums2)):\n",
    "            nums.append(nums2[index])\n",
    "    if j == len(nums2):\n",
    "        for index in range(i, len(nums1)):\n",
    "            nums.append(nums1[index])\n",
    "\n",
    "    median = -1\n",
    "    length = len(nums)\n",
    "    half = int(length/2)\n",
    "    if length%2 != 0:\n",
    "        median = nums[half]\n",
    "    else:\n",
    "        median = (nums[half] + nums[half -1])/2\n",
    "    return median\n",
    "\n",
    "nums1 = [1, 2]\n",
    "nums2 = [3, 4]\n",
    "findMedianSortedArrays(nums1, nums2)"
   ]
  },
  {
   "cell_type": "markdown",
   "metadata": {
    "collapsed": false
   },
   "source": [
    "## 5 Longest Palindromic Substring\n",
    "#### Beats 55.3% on time\n",
    "\n",
    "Given a string s, find the longest palindromic substring in s. You may assume that the maximum length of s is 1000.\n",
    "\n",
    "```\n",
    "Example 1:\n",
    "\n",
    "Input: \"babad\"\n",
    "Output: \"bab\"\n",
    "Note: \"aba\" is also a valid answer.\n",
    "```\n",
    "\n",
    "```\n",
    "Example 2:\n",
    "\n",
    "Input: \"cbbd\"\n",
    "Output: \"bb\"\n",
    "```"
   ]
  },
  {
   "cell_type": "code",
   "execution_count": 3,
   "metadata": {
    "collapsed": false
   },
   "outputs": [
    {
     "name": "stdout",
     "output_type": "stream",
     "text": [
      " \n",
      "a a\n",
      "ac a\n",
      "acda a\n",
      "cbbd bb\n",
      "eabad aba\n",
      "aaaa aaaa\n",
      "bbb bbb\n"
     ]
    }
   ],
   "source": [
    "def longestPalindrome(s):\n",
    "\n",
    "    # len is 0 or 1\n",
    "    if len(s) is 0 or len(s) is 1:\n",
    "        return s\n",
    "\n",
    "    longest_i = -1\n",
    "    longest_j = -1\n",
    "    longest_length = 0\n",
    "\n",
    "    for outer in range(len(s)):\n",
    "        if longest_length == 0:\n",
    "            longest_length = 1\n",
    "            longest_i = outer\n",
    "            longest_j = outer\n",
    "\n",
    "        i = outer - 1\n",
    "        j = outer + 1\n",
    "        while i > -1 and j < len(s):\n",
    "            if s[i] == s[j]:\n",
    "                if (j - i + 1) > longest_length:\n",
    "                    longest_length = j - i + 1\n",
    "                    longest_i = i\n",
    "                    longest_j = j\n",
    "                i = i - 1\n",
    "                j = j + 1\n",
    "            else:\n",
    "                break\n",
    "\n",
    "        i = outer\n",
    "        j = outer + 1\n",
    "        while i > -1 and j < len(s):\n",
    "            if s[i] == s[j]:\n",
    "                if (j - i + 1) > longest_length:\n",
    "                    longest_length = j - i + 1\n",
    "                    longest_i = i\n",
    "                    longest_j = j\n",
    "                i = i - 1\n",
    "                j = j + 1\n",
    "            else:\n",
    "                break\n",
    "\n",
    "    return s[longest_i:longest_j + 1]\n",
    "\n",
    "\n",
    "test = ['','a','ac','acda','cbbd', 'eabad', 'aaaa', 'bbb']\n",
    "for i in test:\n",
    "    print(i, longestPalindrome(i))\n"
   ]
  },
  {
   "cell_type": "markdown",
   "metadata": {
    "collapsed": true
   },
   "source": [
    "## 6 ZigZag Conversion\n",
    "#### Beats % on time\n",
    "\n",
    "The string \"PAYPALISHIRING\" is written in a zigzag pattern on a given number of rows like this: (you may want to display this pattern in a fixed font for better legibility)\n",
    "```\n",
    "P   A   H   N\n",
    "A P L S I I G\n",
    "Y   I   R\n",
    "And then read line by line: \"PAHNAPLSIIGYIR\"\n",
    "```\n",
    "\n",
    "Write the code that will take a string and make this conversion given a number of rows:\n",
    "\n",
    "string convert(string s, int numRows);\n",
    "Example 1:\n",
    "```\n",
    "Input: s = \"PAYPALISHIRING\", numRows = 3\n",
    "Output: \"PAHNAPLSIIGYIR\"\n",
    "```\n",
    "Example 2:\n",
    "```\n",
    "Input: s = \"PAYPALISHIRING\", numRows = 4\n",
    "Output: \"PINALSIGYAHRPI\"\n",
    "Explanation:\n",
    "\n",
    "P     I    N\n",
    "A   L S  I G\n",
    "Y A   H R\n",
    "P     I\n",
    "```"
   ]
  },
  {
   "cell_type": "code",
   "execution_count": null,
   "metadata": {
    "collapsed": true
   },
   "outputs": [],
   "source": [
    "*     *     *\n",
    "*   * *   * *\n",
    "*  *  *  *  *\n",
    "* *   * *   *\n",
    "*     *     *"
   ]
  },
  {
   "cell_type": "code",
   "execution_count": 57,
   "metadata": {
    "collapsed": false
   },
   "outputs": [],
   "source": [
    "import math\n",
    "\n",
    "def convert(s, numRows):\n",
    "    nrows = numRows\n",
    "    \n",
    "    chars_in_one_zig = (nrows + nrows-2)\n",
    "    cols_in_one_zig = (1 + nrows-2)\n",
    "    num_zig = math.ceil(len(s) / chars_in_one_zig)\n",
    "    ncols = num_zig * cols_in_one_zig\n",
    "    arr = [[0 for x in range(ncols)] for y in range(nrows)]\n",
    "    i=j=0\n",
    "    col = True\n",
    "    for index in range(len(s)):\n",
    "        arr[i][j] = s[index]\n",
    "        if col:\n",
    "            i=i+1\n",
    "        \n",
    "    return arr\n"
   ]
  },
  {
   "cell_type": "markdown",
   "metadata": {},
   "source": [
    "## 7 Reverse Integer\n",
    "#### Beats 56% on time\n",
    "\n",
    "Given a 32-bit signed integer, reverse digits of an integer.\n",
    "\n",
    "Example 1:\n",
    "```\n",
    "Input: 123\n",
    "Output: 321\n",
    "```\n",
    "\n",
    "Example 2:\n",
    "```\n",
    "Input: -123\n",
    "Output: -321\n",
    "```\n",
    "\n",
    "Example 3:\n",
    "```\n",
    "Input: 120\n",
    "Output: 21\n",
    "```\n",
    "Note:\n",
    "Assume we are dealing with an environment which could only store integers within the 32-bit signed integer range: [−231,  231 − 1]. For the purpose of this problem, assume that your function returns 0 when the reversed integer overflows."
   ]
  },
  {
   "cell_type": "code",
   "execution_count": 96,
   "metadata": {
    "collapsed": false
   },
   "outputs": [
    {
     "data": {
      "text/plain": [
       "-321"
      ]
     },
     "execution_count": 96,
     "metadata": {},
     "output_type": "execute_result"
    }
   ],
   "source": [
    "def reverse(x):\n",
    "    neg = False\n",
    "    if x < 0:\n",
    "        neg=True\n",
    "        x = abs(x)\n",
    "    seq=[]\n",
    "    while x > 0:\n",
    "        seq.append(x%10)\n",
    "        x = int(x/10)\n",
    "    num=0\n",
    "    for i in range(len(seq)):\n",
    "        num=num+math.pow(10,len(seq)-i-1)*seq[i]\n",
    "    if neg:\n",
    "        num = -1 * num\n",
    "    if num < -1*math.pow(2, 31) or num > math.pow(2,31)-1:\n",
    "        return 0\n",
    "    return int(num)\n",
    "reverse(-123)"
   ]
  },
  {
   "cell_type": "markdown",
   "metadata": {},
   "source": [
    "## 8 String to Integer (atoi)\n",
    "#### beats % on time\n",
    "\n",
    "Implement `atoi` which converts a string to an integer.\n",
    "\n",
    "The function first discards as many whitespace characters as necessary until the first non-whitespace character is found. Then, starting from this character, takes an optional initial plus or minus sign followed by as many numerical digits as possible, and interprets them as a numerical value.\n",
    "\n",
    "The string can contain additional characters after those that form the integral number, which are ignored and have no effect on the behavior of this function.\n",
    "\n",
    "If the first sequence of non-whitespace characters in str is not a valid integral number, or if no such sequence exists because either str is empty or it contains only whitespace characters, no conversion is performed.\n",
    "\n",
    "If no valid conversion could be performed, a zero value is returned.\n",
    "\n",
    "Note:\n",
    "\n",
    "Only the space character ' ' is considered as whitespace character.\n",
    "Assume we are dealing with an environment which could only store integers within the 32-bit signed integer range: [−231,  231 − 1]. If the numerical value is out of the range of representable values, INT_MAX (231 − 1) or INT_MIN (−231) is returned.\n",
    "Example 1:\n",
    "```\n",
    "Input: \"42\"\n",
    "Output: 42\n",
    "```\n",
    "Example 2:\n",
    "```\n",
    "Input: \"   -42\"\n",
    "Output: -42\n",
    "Explanation: The first non-whitespace character is '-', which is the minus sign.\n",
    "             Then take as many numerical digits as possible, which gets 42.\n",
    "```\n",
    "Example 3:\n",
    "```\n",
    "Input: \"4193 with words\"\n",
    "Output: 4193\n",
    "Explanation: Conversion stops at digit '3' as the next character is not a numerical digit.\n",
    "```\n",
    "Example 4:\n",
    "```\n",
    "Input: \"words and 987\"\n",
    "Output: 0\n",
    "Explanation: The first non-whitespace character is 'w', which is not a numerical \n",
    "             digit or a +/- sign. Therefore no valid conversion could be performed.\n",
    "```\n",
    "Example 5:\n",
    "```\n",
    "Input: \"-91283472332\"\n",
    "Output: -2147483648\n",
    "Explanation: The number \"-91283472332\" is out of the range of a 32-bit signed integer.\n",
    "             Thefore INT_MIN (−231) is returned.\n",
    "```"
   ]
  },
  {
   "cell_type": "code",
   "execution_count": null,
   "metadata": {
    "collapsed": true
   },
   "outputs": [],
   "source": [
    "def myAtoi(str):\n",
    "    return -1"
   ]
  },
  {
   "cell_type": "code",
   "execution_count": null,
   "metadata": {
    "collapsed": true
   },
   "outputs": [],
   "source": []
  }
 ],
 "metadata": {
  "kernelspec": {
   "display_name": "Python 3",
   "language": "python",
   "name": "python3"
  },
  "language_info": {
   "codemirror_mode": {
    "name": "ipython",
    "version": 3
   },
   "file_extension": ".py",
   "mimetype": "text/x-python",
   "name": "python",
   "nbconvert_exporter": "python",
   "pygments_lexer": "ipython3",
   "version": "3.6.6"
  }
 },
 "nbformat": 4,
 "nbformat_minor": 2
}
