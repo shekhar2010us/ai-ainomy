{
 "cells": [
  {
   "cell_type": "code",
   "execution_count": 179,
   "metadata": {
    "collapsed": true
   },
   "outputs": [],
   "source": [
    "import numpy as np"
   ]
  },
  {
   "cell_type": "code",
   "execution_count": 180,
   "metadata": {
    "collapsed": false
   },
   "outputs": [],
   "source": [
    "## Create `np` directly\n",
    "arr1_1 = np.array([1,5,10])\n",
    "arr1_2 = np.array([ [1,5,9], [4,6,7] ])\n",
    "\n",
    "# Create `np` from list\n",
    "list1 = [1,2,3]\n",
    "arr2_1 = np.asarray(list1)\n",
    "\n",
    "list2 = list()\n",
    "list2.append([1,2,3])\n",
    "list2.append([3,4,5])\n",
    "arr2_2 = np.asarray(list2)\n",
    "\n",
    "# Convert `np` to list\n",
    "l1 = arr2_1.tolist()\n",
    "l2 = arr2_2.tolist()\n",
    "\n",
    "# Create `np` from zeros\n",
    "arr3_1 = np.zeros(4)\n",
    "arr3_2 = np.ones((4,2))\n",
    "\n",
    "# Create `np` from pre-filled integers\n",
    "arr4_2 = np.full( (4,2), 9 )\n",
    "\n",
    "# Create diagonal matrix in `np`\n",
    "arr5_2 = np.eye(3)\n",
    "\n",
    "# Create `np` random\n",
    "arr6_2 = np.random.random((4,3))"
   ]
  },
  {
   "cell_type": "code",
   "execution_count": 181,
   "metadata": {
    "collapsed": false
   },
   "outputs": [
    {
     "data": {
      "text/plain": [
       "array([[0.55295033, 0.84603376, 0.56715477],\n",
       "       [0.36110834, 0.13580256, 0.73910518],\n",
       "       [0.93536175, 0.60760092, 0.98104011],\n",
       "       [0.99901473, 0.31592869, 0.85418745]])"
      ]
     },
     "execution_count": 181,
     "metadata": {},
     "output_type": "execute_result"
    }
   ],
   "source": [
    "arr6_2"
   ]
  },
  {
   "cell_type": "code",
   "execution_count": 182,
   "metadata": {
    "collapsed": false
   },
   "outputs": [],
   "source": [
    "## slicing and indexing\n",
    "row_slice = arr6_2[0:2, :]\n",
    "col_slice = arr6_2[:, 0:2]\n",
    "\n",
    "## Select individual elements from `np` array\n",
    "row_indices = np.array([1, 2, 2, 0])\n",
    "col_indices = np.array([0, 1, 2, 0])\n",
    "selected_slice = arr6_2[row_indices, col_indices]\n",
    "\n",
    "## Change selected indices elements\n",
    "arr6_2[row_indices, col_indices] += 100"
   ]
  },
  {
   "cell_type": "code",
   "execution_count": 187,
   "metadata": {
    "collapsed": false
   },
   "outputs": [
    {
     "data": {
      "text/plain": [
       "array([100.55295033, 100.36110834, 100.60760092, 100.98104011])"
      ]
     },
     "execution_count": 187,
     "metadata": {},
     "output_type": "execute_result"
    }
   ],
   "source": [
    "## Filter functions\n",
    "filter = arr6_2 > 20\n",
    "arr6_2[filter]\n",
    "# Same as above\n",
    "arr6_2[(arr6_2 > 15)]"
   ]
  },
  {
   "cell_type": "code",
   "execution_count": 201,
   "metadata": {
    "collapsed": false
   },
   "outputs": [
    {
     "data": {
      "text/plain": [
       "array([[148.4131591, 148.4131591],\n",
       "       [148.4131591, 148.4131591],\n",
       "       [148.4131591, 148.4131591]])"
      ]
     },
     "execution_count": 201,
     "metadata": {},
     "output_type": "execute_result"
    }
   ],
   "source": [
    "## Arithmetic operations\n",
    "\n",
    "arr1 = np.full((3,2), 5.0)\n",
    "arr2 = np.full((3,2), 3.0)\n",
    "\n",
    "# add\n",
    "arr1 + arr2\n",
    "# same thing as above\n",
    "np.add(arr1, arr2)\n",
    "\n",
    "# substract\n",
    "arr1 - arr2\n",
    "# same thing as above\n",
    "np.subtract(arr1, arr2)\n",
    "\n",
    "# multiply\n",
    "arr1 * arr2\n",
    "# same thing as above\n",
    "np.multiply(arr1, arr2)\n",
    "\n",
    "# divide\n",
    "arr1 / arr2\n",
    "# same thing as above\n",
    "np.divide(arr1, arr2)\n",
    "\n",
    "# square root\n",
    "np.sqrt(arr1)\n",
    "\n",
    "# exponent\n",
    "np.exp(arr1)"
   ]
  },
  {
   "cell_type": "code",
   "execution_count": 229,
   "metadata": {
    "collapsed": false
   },
   "outputs": [
    {
     "data": {
      "text/plain": [
       "array([4., 5.])"
      ]
     },
     "execution_count": 229,
     "metadata": {},
     "output_type": "execute_result"
    }
   ],
   "source": [
    "## Statistics operations\n",
    "\n",
    "arr1 = np.array([[2,5],[4,8],[7,3]])\n",
    "\n",
    "# mean\n",
    "np.mean(arr1)\n",
    "np.mean(arr1, axis=1) # mean by row\n",
    "np.mean(arr1, axis=0) # mean by col\n",
    "\n",
    "# sum\n",
    "np.sum(arr1)\n",
    "np.sum(arr1, axis=1) # sum by row\n",
    "np.sum(arr1, axis=0) # sum by col\n",
    "\n",
    "# median\n",
    "np.median(arr1)\n",
    "np.median(arr1, axis=1) # median by row\n",
    "np.median(arr1, axis=0) # median by col"
   ]
  },
  {
   "cell_type": "code",
   "execution_count": null,
   "metadata": {
    "collapsed": true
   },
   "outputs": [],
   "source": []
  }
 ],
 "metadata": {
  "kernelspec": {
   "display_name": "Python 3",
   "language": "python",
   "name": "python3"
  },
  "language_info": {
   "codemirror_mode": {
    "name": "ipython",
    "version": 3
   },
   "file_extension": ".py",
   "mimetype": "text/x-python",
   "name": "python",
   "nbconvert_exporter": "python",
   "pygments_lexer": "ipython3",
   "version": "3.6.6"
  }
 },
 "nbformat": 4,
 "nbformat_minor": 2
}
