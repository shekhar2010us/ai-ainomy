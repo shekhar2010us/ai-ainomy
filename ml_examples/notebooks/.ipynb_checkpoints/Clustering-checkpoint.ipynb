{
 "cells": [
  {
   "cell_type": "markdown",
   "metadata": {},
   "source": [
    "# Clustering"
   ]
  },
  {
   "cell_type": "code",
   "execution_count": 1,
   "metadata": {
    "collapsed": false
   },
   "outputs": [],
   "source": [
    "from sklearn.preprocessing import StandardScaler\n",
    "from sklearn.cluster import KMeans\n",
    "import pandas as pd\n",
    "import numpy as np\n",
    "from itertools import cycle, islice\n",
    "import matplotlib.pyplot as plt\n",
    "from pandas.tools.plotting import parallel_coordinates\n",
    "\n",
    "import warnings\n",
    "warnings.filterwarnings(\"ignore\")\n",
    "\n",
    "%matplotlib inline"
   ]
  },
  {
   "cell_type": "markdown",
   "metadata": {},
   "source": [
    "## 1. K-means cluster"
   ]
  },
  {
   "cell_type": "code",
   "execution_count": 2,
   "metadata": {
    "collapsed": false
   },
   "outputs": [
    {
     "name": "stdout",
     "output_type": "stream",
     "text": [
      "Data shape:  (121878, 13)\n",
      "Columns:  Index(['rowID', 'hpwren_timestamp', 'air_pressure', 'air_temp',\n",
      "       'avg_wind_direction', 'avg_wind_speed', 'max_wind_direction',\n",
      "       'max_wind_speed', 'min_wind_direction', 'min_wind_speed',\n",
      "       'rain_accumulation', 'rain_duration', 'relative_humidity'],\n",
      "      dtype='object')\n"
     ]
    },
    {
     "data": {
      "text/html": [
       "<div>\n",
       "<style scoped>\n",
       "    .dataframe tbody tr th:only-of-type {\n",
       "        vertical-align: middle;\n",
       "    }\n",
       "\n",
       "    .dataframe tbody tr th {\n",
       "        vertical-align: top;\n",
       "    }\n",
       "\n",
       "    .dataframe thead th {\n",
       "        text-align: right;\n",
       "    }\n",
       "</style>\n",
       "<table border=\"1\" class=\"dataframe\">\n",
       "  <thead>\n",
       "    <tr style=\"text-align: right;\">\n",
       "      <th></th>\n",
       "      <th>rowID</th>\n",
       "      <th>hpwren_timestamp</th>\n",
       "      <th>air_pressure</th>\n",
       "      <th>air_temp</th>\n",
       "      <th>avg_wind_direction</th>\n",
       "      <th>avg_wind_speed</th>\n",
       "      <th>max_wind_direction</th>\n",
       "      <th>max_wind_speed</th>\n",
       "      <th>min_wind_direction</th>\n",
       "      <th>min_wind_speed</th>\n",
       "      <th>rain_accumulation</th>\n",
       "      <th>rain_duration</th>\n",
       "      <th>relative_humidity</th>\n",
       "    </tr>\n",
       "  </thead>\n",
       "  <tbody>\n",
       "    <tr>\n",
       "      <th>0</th>\n",
       "      <td>0</td>\n",
       "      <td>2011-09-10 00:00:49</td>\n",
       "      <td>912.3</td>\n",
       "      <td>64.76</td>\n",
       "      <td>97.0</td>\n",
       "      <td>1.2</td>\n",
       "      <td>106.0</td>\n",
       "      <td>1.6</td>\n",
       "      <td>85.0</td>\n",
       "      <td>1.0</td>\n",
       "      <td>NaN</td>\n",
       "      <td>NaN</td>\n",
       "      <td>60.5</td>\n",
       "    </tr>\n",
       "    <tr>\n",
       "      <th>1</th>\n",
       "      <td>1</td>\n",
       "      <td>2011-09-10 00:01:49</td>\n",
       "      <td>912.3</td>\n",
       "      <td>63.86</td>\n",
       "      <td>161.0</td>\n",
       "      <td>0.8</td>\n",
       "      <td>215.0</td>\n",
       "      <td>1.5</td>\n",
       "      <td>43.0</td>\n",
       "      <td>0.2</td>\n",
       "      <td>0.0</td>\n",
       "      <td>0.0</td>\n",
       "      <td>39.9</td>\n",
       "    </tr>\n",
       "    <tr>\n",
       "      <th>2</th>\n",
       "      <td>2</td>\n",
       "      <td>2011-09-10 00:02:49</td>\n",
       "      <td>912.3</td>\n",
       "      <td>64.22</td>\n",
       "      <td>77.0</td>\n",
       "      <td>0.7</td>\n",
       "      <td>143.0</td>\n",
       "      <td>1.2</td>\n",
       "      <td>324.0</td>\n",
       "      <td>0.3</td>\n",
       "      <td>0.0</td>\n",
       "      <td>0.0</td>\n",
       "      <td>43.0</td>\n",
       "    </tr>\n",
       "  </tbody>\n",
       "</table>\n",
       "</div>"
      ],
      "text/plain": [
       "   rowID     hpwren_timestamp  air_pressure  air_temp  avg_wind_direction  \\\n",
       "0      0  2011-09-10 00:00:49         912.3     64.76                97.0   \n",
       "1      1  2011-09-10 00:01:49         912.3     63.86               161.0   \n",
       "2      2  2011-09-10 00:02:49         912.3     64.22                77.0   \n",
       "\n",
       "   avg_wind_speed  max_wind_direction  max_wind_speed  min_wind_direction  \\\n",
       "0             1.2               106.0             1.6                85.0   \n",
       "1             0.8               215.0             1.5                43.0   \n",
       "2             0.7               143.0             1.2               324.0   \n",
       "\n",
       "   min_wind_speed  rain_accumulation  rain_duration  relative_humidity  \n",
       "0             1.0                NaN            NaN               60.5  \n",
       "1             0.2                0.0            0.0               39.9  \n",
       "2             0.3                0.0            0.0               43.0  "
      ]
     },
     "execution_count": 2,
     "metadata": {},
     "output_type": "execute_result"
    }
   ],
   "source": [
    "data_file = '../data/weather_clustering.csv'\n",
    "dataset = pd.read_csv(data_file)\n",
    "print ('Data shape: ', dataset.shape)\n",
    "print ('Columns: ', dataset.columns)\n",
    "dataset.head(3)"
   ]
  },
  {
   "cell_type": "code",
   "execution_count": 3,
   "metadata": {
    "collapsed": false
   },
   "outputs": [
    {
     "data": {
      "text/html": [
       "<div>\n",
       "<style scoped>\n",
       "    .dataframe tbody tr th:only-of-type {\n",
       "        vertical-align: middle;\n",
       "    }\n",
       "\n",
       "    .dataframe tbody tr th {\n",
       "        vertical-align: top;\n",
       "    }\n",
       "\n",
       "    .dataframe thead th {\n",
       "        text-align: right;\n",
       "    }\n",
       "</style>\n",
       "<table border=\"1\" class=\"dataframe\">\n",
       "  <thead>\n",
       "    <tr style=\"text-align: right;\">\n",
       "      <th></th>\n",
       "      <th>count</th>\n",
       "      <th>mean</th>\n",
       "      <th>std</th>\n",
       "      <th>min</th>\n",
       "      <th>25%</th>\n",
       "      <th>50%</th>\n",
       "      <th>75%</th>\n",
       "      <th>max</th>\n",
       "    </tr>\n",
       "  </thead>\n",
       "  <tbody>\n",
       "    <tr>\n",
       "      <th>rowID</th>\n",
       "      <td>121878.0</td>\n",
       "      <td>60938.500000</td>\n",
       "      <td>35183.292391</td>\n",
       "      <td>0.00</td>\n",
       "      <td>30469.25</td>\n",
       "      <td>60938.50</td>\n",
       "      <td>91407.75</td>\n",
       "      <td>121877.00</td>\n",
       "    </tr>\n",
       "    <tr>\n",
       "      <th>air_pressure</th>\n",
       "      <td>121878.0</td>\n",
       "      <td>916.946590</td>\n",
       "      <td>2.960202</td>\n",
       "      <td>906.30</td>\n",
       "      <td>915.20</td>\n",
       "      <td>916.80</td>\n",
       "      <td>918.50</td>\n",
       "      <td>926.80</td>\n",
       "    </tr>\n",
       "    <tr>\n",
       "      <th>air_temp</th>\n",
       "      <td>121878.0</td>\n",
       "      <td>62.567613</td>\n",
       "      <td>11.497570</td>\n",
       "      <td>38.12</td>\n",
       "      <td>52.34</td>\n",
       "      <td>64.04</td>\n",
       "      <td>71.60</td>\n",
       "      <td>91.22</td>\n",
       "    </tr>\n",
       "    <tr>\n",
       "      <th>avg_wind_direction</th>\n",
       "      <td>121845.0</td>\n",
       "      <td>150.834938</td>\n",
       "      <td>97.570917</td>\n",
       "      <td>0.00</td>\n",
       "      <td>53.00</td>\n",
       "      <td>172.00</td>\n",
       "      <td>212.00</td>\n",
       "      <td>359.00</td>\n",
       "    </tr>\n",
       "    <tr>\n",
       "      <th>avg_wind_speed</th>\n",
       "      <td>121845.0</td>\n",
       "      <td>2.568209</td>\n",
       "      <td>1.804301</td>\n",
       "      <td>0.00</td>\n",
       "      <td>1.30</td>\n",
       "      <td>2.10</td>\n",
       "      <td>3.40</td>\n",
       "      <td>23.40</td>\n",
       "    </tr>\n",
       "    <tr>\n",
       "      <th>max_wind_direction</th>\n",
       "      <td>121845.0</td>\n",
       "      <td>152.336132</td>\n",
       "      <td>94.025442</td>\n",
       "      <td>0.00</td>\n",
       "      <td>61.00</td>\n",
       "      <td>179.00</td>\n",
       "      <td>216.00</td>\n",
       "      <td>359.00</td>\n",
       "    </tr>\n",
       "    <tr>\n",
       "      <th>max_wind_speed</th>\n",
       "      <td>121845.0</td>\n",
       "      <td>3.169245</td>\n",
       "      <td>2.121537</td>\n",
       "      <td>0.10</td>\n",
       "      <td>1.60</td>\n",
       "      <td>2.60</td>\n",
       "      <td>4.20</td>\n",
       "      <td>25.90</td>\n",
       "    </tr>\n",
       "    <tr>\n",
       "      <th>min_wind_direction</th>\n",
       "      <td>121845.0</td>\n",
       "      <td>156.126899</td>\n",
       "      <td>101.567320</td>\n",
       "      <td>0.00</td>\n",
       "      <td>54.00</td>\n",
       "      <td>169.00</td>\n",
       "      <td>210.00</td>\n",
       "      <td>359.00</td>\n",
       "    </tr>\n",
       "    <tr>\n",
       "      <th>min_wind_speed</th>\n",
       "      <td>121845.0</td>\n",
       "      <td>1.952774</td>\n",
       "      <td>1.533466</td>\n",
       "      <td>0.00</td>\n",
       "      <td>0.80</td>\n",
       "      <td>1.60</td>\n",
       "      <td>2.70</td>\n",
       "      <td>21.60</td>\n",
       "    </tr>\n",
       "    <tr>\n",
       "      <th>rain_accumulation</th>\n",
       "      <td>121877.0</td>\n",
       "      <td>0.000509</td>\n",
       "      <td>0.006558</td>\n",
       "      <td>0.00</td>\n",
       "      <td>0.00</td>\n",
       "      <td>0.00</td>\n",
       "      <td>0.00</td>\n",
       "      <td>0.40</td>\n",
       "    </tr>\n",
       "    <tr>\n",
       "      <th>rain_duration</th>\n",
       "      <td>121877.0</td>\n",
       "      <td>0.761579</td>\n",
       "      <td>6.407400</td>\n",
       "      <td>0.00</td>\n",
       "      <td>0.00</td>\n",
       "      <td>0.00</td>\n",
       "      <td>0.00</td>\n",
       "      <td>60.00</td>\n",
       "    </tr>\n",
       "    <tr>\n",
       "      <th>relative_humidity</th>\n",
       "      <td>121878.0</td>\n",
       "      <td>47.159082</td>\n",
       "      <td>27.499745</td>\n",
       "      <td>4.00</td>\n",
       "      <td>24.30</td>\n",
       "      <td>38.90</td>\n",
       "      <td>71.70</td>\n",
       "      <td>92.80</td>\n",
       "    </tr>\n",
       "  </tbody>\n",
       "</table>\n",
       "</div>"
      ],
      "text/plain": [
       "                       count          mean           std     min       25%  \\\n",
       "rowID               121878.0  60938.500000  35183.292391    0.00  30469.25   \n",
       "air_pressure        121878.0    916.946590      2.960202  906.30    915.20   \n",
       "air_temp            121878.0     62.567613     11.497570   38.12     52.34   \n",
       "avg_wind_direction  121845.0    150.834938     97.570917    0.00     53.00   \n",
       "avg_wind_speed      121845.0      2.568209      1.804301    0.00      1.30   \n",
       "max_wind_direction  121845.0    152.336132     94.025442    0.00     61.00   \n",
       "max_wind_speed      121845.0      3.169245      2.121537    0.10      1.60   \n",
       "min_wind_direction  121845.0    156.126899    101.567320    0.00     54.00   \n",
       "min_wind_speed      121845.0      1.952774      1.533466    0.00      0.80   \n",
       "rain_accumulation   121877.0      0.000509      0.006558    0.00      0.00   \n",
       "rain_duration       121877.0      0.761579      6.407400    0.00      0.00   \n",
       "relative_humidity   121878.0     47.159082     27.499745    4.00     24.30   \n",
       "\n",
       "                         50%       75%        max  \n",
       "rowID               60938.50  91407.75  121877.00  \n",
       "air_pressure          916.80    918.50     926.80  \n",
       "air_temp               64.04     71.60      91.22  \n",
       "avg_wind_direction    172.00    212.00     359.00  \n",
       "avg_wind_speed          2.10      3.40      23.40  \n",
       "max_wind_direction    179.00    216.00     359.00  \n",
       "max_wind_speed          2.60      4.20      25.90  \n",
       "min_wind_direction    169.00    210.00     359.00  \n",
       "min_wind_speed          1.60      2.70      21.60  \n",
       "rain_accumulation       0.00      0.00       0.40  \n",
       "rain_duration           0.00      0.00      60.00  \n",
       "relative_humidity      38.90     71.70      92.80  "
      ]
     },
     "execution_count": 3,
     "metadata": {},
     "output_type": "execute_result"
    }
   ],
   "source": [
    "# describe the dataset\n",
    "dataset.describe().transpose()"
   ]
  },
  {
   "cell_type": "markdown",
   "metadata": {},
   "source": [
    "### Basic Data Exploratory Analysis"
   ]
  },
  {
   "cell_type": "code",
   "execution_count": 5,
   "metadata": {
    "collapsed": false
   },
   "outputs": [
    {
     "name": "stdout",
     "output_type": "stream",
     "text": [
      "\n",
      "Count number of rows for each column having NaN value\n",
      "rowID                  0\n",
      "hpwren_timestamp       0\n",
      "air_pressure           0\n",
      "air_temp               0\n",
      "avg_wind_direction    33\n",
      "avg_wind_speed        33\n",
      "max_wind_direction    33\n",
      "max_wind_speed        33\n",
      "min_wind_direction    33\n",
      "min_wind_speed        33\n",
      "rain_accumulation      1\n",
      "rain_duration          1\n",
      "relative_humidity      0\n",
      "dtype: int64\n"
     ]
    }
   ],
   "source": [
    "# print ('Zero rain accumulation: ', dataset[dataset['rain_accumulation'] == 0].shape)\n",
    "# print ('NaN rain accumulation: \\t', dataset[dataset['rain_accumulation'].isna()].shape)\n",
    "\n",
    "# print ('\\nZero rain duration: \\t', dataset[dataset['rain_duration'] == 0].shape)\n",
    "# print ('NaN rain duration: \\t', dataset[dataset['rain_duration'].isna()].shape)\n",
    "\n",
    "print ('\\nCount number of rows for each column having NaN value')\n",
    "print (dataset.isna().sum())"
   ]
  },
  {
   "cell_type": "markdown",
   "metadata": {},
   "source": [
    "### Basic Data Cleaning"
   ]
  },
  {
   "cell_type": "code",
   "execution_count": 6,
   "metadata": {
    "collapsed": false
   },
   "outputs": [
    {
     "name": "stdout",
     "output_type": "stream",
     "text": [
      "\n",
      "Count number of rows for each column having NaN value\n",
      "rowID                  0\n",
      "hpwren_timestamp       0\n",
      "air_pressure           0\n",
      "air_temp               0\n",
      "avg_wind_direction    33\n",
      "avg_wind_speed        33\n",
      "max_wind_direction    33\n",
      "max_wind_speed        33\n",
      "min_wind_direction    33\n",
      "min_wind_speed        33\n",
      "rain_accumulation      0\n",
      "rain_duration          0\n",
      "relative_humidity      0\n",
      "dtype: int64\n"
     ]
    }
   ],
   "source": [
    "# Drop all the Rows with NaN in columns: 'rain_accumulation' & 'rain_duration'\n",
    "subset_cols = ['rain_accumulation', 'rain_duration']\n",
    "dataset_2 = dataset.dropna(subset = subset_cols)\n",
    "\n",
    "print ('\\nCount number of rows for each column having NaN value')\n",
    "print (dataset_2.isna().sum())"
   ]
  },
  {
   "cell_type": "code",
   "execution_count": 7,
   "metadata": {
    "collapsed": false
   },
   "outputs": [
    {
     "name": "stdout",
     "output_type": "stream",
     "text": [
      "\n",
      "Count number of rows for each column having NaN value\n",
      "rowID                 0\n",
      "hpwren_timestamp      0\n",
      "air_pressure          0\n",
      "air_temp              0\n",
      "avg_wind_direction    0\n",
      "avg_wind_speed        0\n",
      "max_wind_direction    0\n",
      "max_wind_speed        0\n",
      "min_wind_direction    0\n",
      "min_wind_speed        0\n",
      "rain_accumulation     0\n",
      "rain_duration         0\n",
      "relative_humidity     0\n",
      "dtype: int64\n",
      "\n",
      "Shape of new dataset:  (121844, 13)\n"
     ]
    }
   ],
   "source": [
    "# Drop all the Rows with NaN in any column\n",
    "subset_cols = dataset.columns\n",
    "dataset_2 = dataset.dropna(subset = dataset.columns)\n",
    "\n",
    "print ('\\nCount number of rows for each column having NaN value')\n",
    "print (dataset_2.isna().sum())\n",
    "print ('\\nShape of new dataset: ', dataset_2.shape)"
   ]
  },
  {
   "cell_type": "markdown",
   "metadata": {},
   "source": [
    "### Select subset of features to train the model"
   ]
  },
  {
   "cell_type": "code",
   "execution_count": 8,
   "metadata": {
    "collapsed": false
   },
   "outputs": [
    {
     "name": "stdout",
     "output_type": "stream",
     "text": [
      "Shape of select_df:  (121844, 7)\n"
     ]
    }
   ],
   "source": [
    "features = ['air_pressure', 'air_temp', 'avg_wind_direction', 'avg_wind_speed', 'max_wind_direction', \n",
    "        'max_wind_speed','relative_humidity']\n",
    "\n",
    "select_df = dataset_2[features]\n",
    "print ('Shape of select_df: ', select_df.shape)"
   ]
  },
  {
   "cell_type": "markdown",
   "metadata": {},
   "source": [
    "### Scale the features\n",
    "-- `Previously we used MinMaxScaler, let's use StandardScaler now` <br>\n",
    "<br>\n",
    "__MinMaxScaler:__ `For each value in a feature, MinMaxScaler subtracts the minimum value in the feature and then divides by the range. The range is the difference between the original maximum and original minimum.`\n",
    "<br>\n",
    "__StandardScaler:__ `standardizes a feature by subtracting the mean and then scaling to unit variance. Unit variance means dividing all the values by the standard deviation.`\n",
    "<br>\n",
    "Properties: `StandardScaler does distort the relative distances between the feature values, but MinMaxScaler do not.`\n",
    "<br>\n",
    "<br> Choose your scaler wisely"
   ]
  },
  {
   "cell_type": "code",
   "execution_count": 9,
   "metadata": {
    "collapsed": false
   },
   "outputs": [
    {
     "name": "stdout",
     "output_type": "stream",
     "text": [
      "X shape:  (121844, 7) \n",
      "\n",
      "0 >> [-1.570446725112506, 0.11208630595004684, 0.10417687266375614, -0.980005061005026, 0.6664531322823162, -0.7868172557708727, -0.2635842210557309]\n",
      "\n",
      "1 >> [-1.570446725112506, 0.1433994231902675, -0.7567364734367524, -1.035428314358796, -0.09929782183999827, -0.9282244821839098, -0.1508308553898554]\n",
      "\n",
      "2 >> [-1.570446725112506, 0.15905598181037842, -0.6337488525652513, -0.758312047589947, -0.4289961493093281, -0.7396815136331936, 0.0855874919740771]\n",
      "\n"
     ]
    }
   ],
   "source": [
    "X = StandardScaler().fit_transform(select_df)\n",
    "print ('X shape: ', X.shape, '\\n')\n",
    "sample_records = X[0:3].tolist()\n",
    "for i in range(len(sample_records)):\n",
    "    print (str(i) + \" >> \" + str(sample_records[i]) + '\\n')"
   ]
  },
  {
   "cell_type": "markdown",
   "metadata": {},
   "source": [
    "### Build Model"
   ]
  },
  {
   "cell_type": "code",
   "execution_count": 10,
   "metadata": {
    "collapsed": false
   },
   "outputs": [
    {
     "name": "stdout",
     "output_type": "stream",
     "text": [
      "model\n",
      " KMeans(algorithm='auto', copy_x=True, init='k-means++', max_iter=300,\n",
      "    n_clusters=12, n_init=10, n_jobs=None, precompute_distances='auto',\n",
      "    random_state=None, tol=0.0001, verbose=0)\n"
     ]
    }
   ],
   "source": [
    "kmeans = KMeans(n_clusters=12)\n",
    "model = kmeans.fit(X)\n",
    "print(\"model\\n\", model)\n",
    "\n",
    "#euclidean distance = 12 * 121000^3 * 300"
   ]
  },
  {
   "cell_type": "markdown",
   "metadata": {},
   "source": [
    "### Understanding clusters"
   ]
  },
  {
   "cell_type": "code",
   "execution_count": 11,
   "metadata": {
    "collapsed": false
   },
   "outputs": [
    {
     "name": "stdout",
     "output_type": "stream",
     "text": [
      "Centroid shape:  (12, 7)\n",
      "\n",
      "Centroid space: \n",
      " [[-1.59494731 -1.08832927  0.33601898  2.35048382  0.45496581  2.39242113\n",
      "   0.94878509]\n",
      " [-0.34457096 -0.86188397 -1.03740979 -0.59602115 -0.84859165 -0.5995731\n",
      "   0.90298973]\n",
      " [ 0.1143351   0.76832007 -1.13768688 -0.56056394 -1.02504931 -0.59664066\n",
      "  -0.674447  ]\n",
      " [ 0.17379282  0.80520492  0.29375167 -0.63822234  0.50580378 -0.63647361\n",
      "  -0.59714016]\n",
      " [ 0.01890336  0.10257022  1.94605789 -0.6371508  -1.39974881 -0.54914727\n",
      "  -0.07416646]\n",
      " [-0.95114077 -1.29536018  0.50728555  0.60290421  0.60437914  0.62717876\n",
      "   1.33064057]\n",
      " [ 0.05443321  0.52481237  1.50357159 -0.6316878   1.78436076 -0.58456965\n",
      "  -0.58160807]\n",
      " [ 1.67594135 -0.31050593 -0.99448141  2.37303896 -0.91784988  2.42906469\n",
      "  -1.04961958]\n",
      " [-0.19861782 -1.01230538  0.68999304 -0.52348675  0.90608122 -0.5056384\n",
      "   1.21977238]\n",
      " [ 1.93105542 -0.24070405 -0.89653466 -0.11529782 -0.77818914 -0.13086398\n",
      "  -0.59853569]\n",
      " [ 0.08119822  0.61095117 -1.0499882   0.82093133 -0.98011024  0.7880235\n",
      "  -0.78896805]\n",
      " [-0.06886486  0.57998698  0.48427533  0.66590242  0.59372958  0.60684365\n",
      "  -0.22355563]]\n"
     ]
    }
   ],
   "source": [
    "centers = model.cluster_centers_\n",
    "print ('Centroid shape: ', centers.shape)\n",
    "print ('\\nCentroid space: \\n', centers)"
   ]
  },
  {
   "cell_type": "markdown",
   "metadata": {},
   "source": [
    "### Plots"
   ]
  },
  {
   "cell_type": "code",
   "execution_count": 13,
   "metadata": {
    "collapsed": true
   },
   "outputs": [],
   "source": [
    "# Function that creates a DataFrame with a column for Cluster Number\n",
    "def pd_centers(featuresUsed, centers):\n",
    "    colNames = list(featuresUsed)\n",
    "    colNames.append('cluster_number')\n",
    "    \n",
    "    # Zip with a column called 'prediction' (index)\n",
    "    Z = [np.append(A, index) for index, A in enumerate(centers)]\n",
    "    \n",
    "    # Convert to pandas data frame for plotting\n",
    "    P = pd.DataFrame(Z, columns=colNames)\n",
    "    P['cluster_number'] = P['cluster_number'].astype(int)\n",
    "    return P\n",
    "\n",
    "# Function that creates Parallel Plots\n",
    "def parallel_plot(data):\n",
    "    my_colors = list(islice(cycle(['b', 'r', 'g', 'y', 'k']), None, len(data)))\n",
    "    plt.figure(figsize=(15,8)).gca().axes.set_ylim([-3,+3])\n",
    "    parallel_coordinates(data, 'cluster_number', color = my_colors, marker='o')"
   ]
  },
  {
   "cell_type": "code",
   "execution_count": 14,
   "metadata": {
    "collapsed": false
   },
   "outputs": [
    {
     "data": {
      "text/html": [
       "<div>\n",
       "<style scoped>\n",
       "    .dataframe tbody tr th:only-of-type {\n",
       "        vertical-align: middle;\n",
       "    }\n",
       "\n",
       "    .dataframe tbody tr th {\n",
       "        vertical-align: top;\n",
       "    }\n",
       "\n",
       "    .dataframe thead th {\n",
       "        text-align: right;\n",
       "    }\n",
       "</style>\n",
       "<table border=\"1\" class=\"dataframe\">\n",
       "  <thead>\n",
       "    <tr style=\"text-align: right;\">\n",
       "      <th></th>\n",
       "      <th>air_pressure</th>\n",
       "      <th>air_temp</th>\n",
       "      <th>avg_wind_direction</th>\n",
       "      <th>avg_wind_speed</th>\n",
       "      <th>max_wind_direction</th>\n",
       "      <th>max_wind_speed</th>\n",
       "      <th>relative_humidity</th>\n",
       "      <th>cluster_number</th>\n",
       "    </tr>\n",
       "  </thead>\n",
       "  <tbody>\n",
       "    <tr>\n",
       "      <th>0</th>\n",
       "      <td>-1.594947</td>\n",
       "      <td>-1.088329</td>\n",
       "      <td>0.336019</td>\n",
       "      <td>2.350484</td>\n",
       "      <td>0.454966</td>\n",
       "      <td>2.392421</td>\n",
       "      <td>0.948785</td>\n",
       "      <td>0</td>\n",
       "    </tr>\n",
       "    <tr>\n",
       "      <th>1</th>\n",
       "      <td>-0.344571</td>\n",
       "      <td>-0.861884</td>\n",
       "      <td>-1.037410</td>\n",
       "      <td>-0.596021</td>\n",
       "      <td>-0.848592</td>\n",
       "      <td>-0.599573</td>\n",
       "      <td>0.902990</td>\n",
       "      <td>1</td>\n",
       "    </tr>\n",
       "    <tr>\n",
       "      <th>2</th>\n",
       "      <td>0.114335</td>\n",
       "      <td>0.768320</td>\n",
       "      <td>-1.137687</td>\n",
       "      <td>-0.560564</td>\n",
       "      <td>-1.025049</td>\n",
       "      <td>-0.596641</td>\n",
       "      <td>-0.674447</td>\n",
       "      <td>2</td>\n",
       "    </tr>\n",
       "    <tr>\n",
       "      <th>3</th>\n",
       "      <td>0.173793</td>\n",
       "      <td>0.805205</td>\n",
       "      <td>0.293752</td>\n",
       "      <td>-0.638222</td>\n",
       "      <td>0.505804</td>\n",
       "      <td>-0.636474</td>\n",
       "      <td>-0.597140</td>\n",
       "      <td>3</td>\n",
       "    </tr>\n",
       "    <tr>\n",
       "      <th>4</th>\n",
       "      <td>0.018903</td>\n",
       "      <td>0.102570</td>\n",
       "      <td>1.946058</td>\n",
       "      <td>-0.637151</td>\n",
       "      <td>-1.399749</td>\n",
       "      <td>-0.549147</td>\n",
       "      <td>-0.074166</td>\n",
       "      <td>4</td>\n",
       "    </tr>\n",
       "    <tr>\n",
       "      <th>5</th>\n",
       "      <td>-0.951141</td>\n",
       "      <td>-1.295360</td>\n",
       "      <td>0.507286</td>\n",
       "      <td>0.602904</td>\n",
       "      <td>0.604379</td>\n",
       "      <td>0.627179</td>\n",
       "      <td>1.330641</td>\n",
       "      <td>5</td>\n",
       "    </tr>\n",
       "    <tr>\n",
       "      <th>6</th>\n",
       "      <td>0.054433</td>\n",
       "      <td>0.524812</td>\n",
       "      <td>1.503572</td>\n",
       "      <td>-0.631688</td>\n",
       "      <td>1.784361</td>\n",
       "      <td>-0.584570</td>\n",
       "      <td>-0.581608</td>\n",
       "      <td>6</td>\n",
       "    </tr>\n",
       "    <tr>\n",
       "      <th>7</th>\n",
       "      <td>1.675941</td>\n",
       "      <td>-0.310506</td>\n",
       "      <td>-0.994481</td>\n",
       "      <td>2.373039</td>\n",
       "      <td>-0.917850</td>\n",
       "      <td>2.429065</td>\n",
       "      <td>-1.049620</td>\n",
       "      <td>7</td>\n",
       "    </tr>\n",
       "    <tr>\n",
       "      <th>8</th>\n",
       "      <td>-0.198618</td>\n",
       "      <td>-1.012305</td>\n",
       "      <td>0.689993</td>\n",
       "      <td>-0.523487</td>\n",
       "      <td>0.906081</td>\n",
       "      <td>-0.505638</td>\n",
       "      <td>1.219772</td>\n",
       "      <td>8</td>\n",
       "    </tr>\n",
       "    <tr>\n",
       "      <th>9</th>\n",
       "      <td>1.931055</td>\n",
       "      <td>-0.240704</td>\n",
       "      <td>-0.896535</td>\n",
       "      <td>-0.115298</td>\n",
       "      <td>-0.778189</td>\n",
       "      <td>-0.130864</td>\n",
       "      <td>-0.598536</td>\n",
       "      <td>9</td>\n",
       "    </tr>\n",
       "    <tr>\n",
       "      <th>10</th>\n",
       "      <td>0.081198</td>\n",
       "      <td>0.610951</td>\n",
       "      <td>-1.049988</td>\n",
       "      <td>0.820931</td>\n",
       "      <td>-0.980110</td>\n",
       "      <td>0.788023</td>\n",
       "      <td>-0.788968</td>\n",
       "      <td>10</td>\n",
       "    </tr>\n",
       "    <tr>\n",
       "      <th>11</th>\n",
       "      <td>-0.068865</td>\n",
       "      <td>0.579987</td>\n",
       "      <td>0.484275</td>\n",
       "      <td>0.665902</td>\n",
       "      <td>0.593730</td>\n",
       "      <td>0.606844</td>\n",
       "      <td>-0.223556</td>\n",
       "      <td>11</td>\n",
       "    </tr>\n",
       "  </tbody>\n",
       "</table>\n",
       "</div>"
      ],
      "text/plain": [
       "    air_pressure  air_temp  avg_wind_direction  avg_wind_speed  \\\n",
       "0      -1.594947 -1.088329            0.336019        2.350484   \n",
       "1      -0.344571 -0.861884           -1.037410       -0.596021   \n",
       "2       0.114335  0.768320           -1.137687       -0.560564   \n",
       "3       0.173793  0.805205            0.293752       -0.638222   \n",
       "4       0.018903  0.102570            1.946058       -0.637151   \n",
       "5      -0.951141 -1.295360            0.507286        0.602904   \n",
       "6       0.054433  0.524812            1.503572       -0.631688   \n",
       "7       1.675941 -0.310506           -0.994481        2.373039   \n",
       "8      -0.198618 -1.012305            0.689993       -0.523487   \n",
       "9       1.931055 -0.240704           -0.896535       -0.115298   \n",
       "10      0.081198  0.610951           -1.049988        0.820931   \n",
       "11     -0.068865  0.579987            0.484275        0.665902   \n",
       "\n",
       "    max_wind_direction  max_wind_speed  relative_humidity  cluster_number  \n",
       "0             0.454966        2.392421           0.948785               0  \n",
       "1            -0.848592       -0.599573           0.902990               1  \n",
       "2            -1.025049       -0.596641          -0.674447               2  \n",
       "3             0.505804       -0.636474          -0.597140               3  \n",
       "4            -1.399749       -0.549147          -0.074166               4  \n",
       "5             0.604379        0.627179           1.330641               5  \n",
       "6             1.784361       -0.584570          -0.581608               6  \n",
       "7            -0.917850        2.429065          -1.049620               7  \n",
       "8             0.906081       -0.505638           1.219772               8  \n",
       "9            -0.778189       -0.130864          -0.598536               9  \n",
       "10           -0.980110        0.788023          -0.788968              10  \n",
       "11            0.593730        0.606844          -0.223556              11  "
      ]
     },
     "execution_count": 14,
     "metadata": {},
     "output_type": "execute_result"
    }
   ],
   "source": [
    "# value of centroid based on features\n",
    "P = pd_centers(features, centers)\n",
    "P"
   ]
  },
  {
   "cell_type": "code",
   "execution_count": null,
   "metadata": {
    "collapsed": false
   },
   "outputs": [],
   "source": [
    "## DRY DAYS\n",
    "dry_days_centroid = P[P['relative_humidity'] < -0.5]\n",
    "print ('\\nDRY DAYS Centroid')\n",
    "print (dry_days_centroid)\n",
    "\n",
    "## WARM DAYS\n",
    "warm_days_centroid = P[P['air_temp'] > 0.5]\n",
    "print ('\\n\\nWARM DAYS Centroid')\n",
    "print (warm_days_centroid)\n",
    "\n",
    "## COOL DAYS\n",
    "cool_days_centroid = P[(P['relative_humidity'] > 0.5) & (P['air_temp'] < 0.5)]\n",
    "print ('\\n\\nCOOL DAYS Centroid')\n",
    "print (cool_days_centroid)"
   ]
  },
  {
   "cell_type": "code",
   "execution_count": null,
   "metadata": {
    "collapsed": false
   },
   "outputs": [],
   "source": [
    "parallel_plot(dry_days_centroid)"
   ]
  },
  {
   "cell_type": "code",
   "execution_count": null,
   "metadata": {
    "collapsed": false
   },
   "outputs": [],
   "source": [
    "parallel_plot(warm_days_centroid)"
   ]
  },
  {
   "cell_type": "code",
   "execution_count": null,
   "metadata": {
    "collapsed": false
   },
   "outputs": [],
   "source": [
    "parallel_plot(cool_days_centroid)"
   ]
  },
  {
   "cell_type": "code",
   "execution_count": null,
   "metadata": {
    "collapsed": true
   },
   "outputs": [],
   "source": []
  }
 ],
 "metadata": {
  "kernelspec": {
   "display_name": "Python 3",
   "language": "python",
   "name": "python3"
  },
  "language_info": {
   "codemirror_mode": {
    "name": "ipython",
    "version": 3
   },
   "file_extension": ".py",
   "mimetype": "text/x-python",
   "name": "python",
   "nbconvert_exporter": "python",
   "pygments_lexer": "ipython3",
   "version": "3.6.6"
  }
 },
 "nbformat": 4,
 "nbformat_minor": 2
}
