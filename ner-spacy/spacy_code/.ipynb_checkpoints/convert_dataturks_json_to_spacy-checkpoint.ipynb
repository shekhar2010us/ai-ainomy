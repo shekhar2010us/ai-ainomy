{
 "cells": [
  {
   "cell_type": "code",
   "execution_count": 18,
   "metadata": {},
   "outputs": [],
   "source": [
    "import json\n",
    "\n",
    "def convert_dataturks_to_spacy(dataturks_json_filePath):\n",
    "    try:\n",
    "        training_data = []\n",
    "        lines=[]\n",
    "        with open(dataturks_json_filePath, 'r') as f:\n",
    "            lines = f.readlines()\n",
    "        for line in lines:\n",
    "            data = json.loads(line)\n",
    "            text = data['content']\n",
    "            entities = []\n",
    "            annotations = data['annotation']\n",
    "            if annotations is not None:\n",
    "                for annotation in annotations:\n",
    "                    #only a single point in text annotation.\n",
    "                    point = annotation['points'][0]\n",
    "                    labels = annotation['label']\n",
    "                    # handle both list of labels or a single label.\n",
    "                    if not isinstance(labels, list):\n",
    "                        labels = [labels]\n",
    "\n",
    "                    for label in labels:\n",
    "                        #dataturks indices are both inclusive [start, end] but spacy is not [start, end)\n",
    "                        entities.append((point['start'], point['end'] + 1 ,label))\n",
    "            training_data.append((text, {\"entities\" : entities}))\n",
    "\n",
    "        return training_data\n",
    "    except Exception as e:\n",
    "        print(\"Unable to process \" + dataturks_json_filePath + \"\\n\" + \"error = \" + str(e))\n",
    "        return None\n",
    "\n",
    "def write_list_to_file(li, file):\n",
    "    with open(file, 'w') as file_handler:\n",
    "        for item in li:\n",
    "            file_handler.write(\"{}\\n\".format(item))\n",
    "\n",
    "input_file_path = '/Users/sheagraw/Documents/dev/team-oracle/ner-stanford/src/main/resources/data/train/sample_dataturks.json'\n",
    "output_file_path = '/Users/sheagraw/Documents/dev/team-oracle/ner-stanford/src/main/resources/data/train/sample_dataturks.spacy'\n",
    "training_data = convert_dataturks_to_spacy(input_file_path)\n",
    "write_list_to_file(training_data, output_file_path)"
   ]
  },
  {
   "cell_type": "code",
   "execution_count": null,
   "metadata": {},
   "outputs": [],
   "source": []
  }
 ],
 "metadata": {
  "kernelspec": {
   "display_name": "Python 3",
   "language": "python",
   "name": "python3"
  },
  "language_info": {
   "codemirror_mode": {
    "name": "ipython",
    "version": 3
   },
   "file_extension": ".py",
   "mimetype": "text/x-python",
   "name": "python",
   "nbconvert_exporter": "python",
   "pygments_lexer": "ipython3",
   "version": "3.7.0"
  }
 },
 "nbformat": 4,
 "nbformat_minor": 2
}
